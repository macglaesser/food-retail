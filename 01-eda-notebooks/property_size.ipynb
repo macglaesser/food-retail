{
 "cells": [
  {
   "cell_type": "code",
   "execution_count": 1,
   "id": "c0fe064c",
   "metadata": {},
   "outputs": [],
   "source": [
    "import pandas as pd"
   ]
  },
  {
   "cell_type": "code",
   "execution_count": 2,
   "id": "09f3765f",
   "metadata": {},
   "outputs": [
    {
     "name": "stderr",
     "output_type": "stream",
     "text": [
      "C:\\Users\\macgl\\AppData\\Local\\Temp\\ipykernel_8408\\3264185340.py:1: DtypeWarning: Columns (9,13,16,19) have mixed types. Specify dtype option on import or set low_memory=False.\n",
      "  accountINFO = pd.read_csv('../local-data/ACCOUNT_INFO.csv')\n"
     ]
    }
   ],
   "source": [
    "accountINFO = pd.read_csv('../local-data/ACCOUNT_INFO.csv')\n",
    "comDetail = pd.read_csv('../local-data/COM_DETAIL.CSV')"
   ]
  },
  {
   "cell_type": "code",
   "execution_count": 5,
   "id": "c04bdfc2",
   "metadata": {},
   "outputs": [
    {
     "data": {
      "text/plain": [
       "Index(['ACCOUNT_NUM', 'APPRAISAL_YR', 'DIVISION_CD', 'BIZ_NAME', 'OWNER_NAME1',\n",
       "       'OWNER_NAME2', 'EXCLUDE_OWNER', 'OWNER_ADDRESS_LINE1',\n",
       "       'OWNER_ADDRESS_LINE2', 'OWNER_ADDRESS_LINE3', 'OWNER_ADDRESS_LINE4',\n",
       "       'OWNER_CITY', 'OWNER_STATE', 'OWNER_ZIPCODE', 'OWNER_COUNTRY',\n",
       "       'STREET_NUM', 'STREET_HALF_NUM', 'FULL_STREET_NAME', 'BLDG_ID',\n",
       "       'UNIT_ID', 'PROPERTY_CITY', 'PROPERTY_ZIPCODE', 'MAPSCO', 'NBHD_CD',\n",
       "       'LEGAL1', 'LEGAL2', 'LEGAL3', 'LEGAL4', 'LEGAL5', 'DEED_TXFR_DATE',\n",
       "       'GIS_PARCEL_ID', 'PHONE_NUM', 'LMA', 'IMA'],\n",
       "      dtype='object')"
      ]
     },
     "execution_count": 5,
     "metadata": {},
     "output_type": "execute_result"
    }
   ],
   "source": [
    "accountINFO.columns"
   ]
  },
  {
   "cell_type": "code",
   "execution_count": 11,
   "id": "825851f2",
   "metadata": {},
   "outputs": [
    {
     "data": {
      "text/html": [
       "<div>\n",
       "<style scoped>\n",
       "    .dataframe tbody tr th:only-of-type {\n",
       "        vertical-align: middle;\n",
       "    }\n",
       "\n",
       "    .dataframe tbody tr th {\n",
       "        vertical-align: top;\n",
       "    }\n",
       "\n",
       "    .dataframe thead th {\n",
       "        text-align: right;\n",
       "    }\n",
       "</style>\n",
       "<table border=\"1\" class=\"dataframe\">\n",
       "  <thead>\n",
       "    <tr style=\"text-align: right;\">\n",
       "      <th></th>\n",
       "      <th>STREET_NUM</th>\n",
       "      <th>STREET_HALF_NUM</th>\n",
       "      <th>FULL_STREET_NAME</th>\n",
       "      <th>BLDG_ID</th>\n",
       "      <th>UNIT_ID</th>\n",
       "      <th>PROPERTY_CITY</th>\n",
       "      <th>PROPERTY_ZIPCODE</th>\n",
       "    </tr>\n",
       "  </thead>\n",
       "  <tbody>\n",
       "    <tr>\n",
       "      <th>0</th>\n",
       "      <td>2511</td>\n",
       "      <td>NaN</td>\n",
       "      <td>BRANDYWINE DR</td>\n",
       "      <td>NaN</td>\n",
       "      <td>NaN</td>\n",
       "      <td>FARMERS BRANCH</td>\n",
       "      <td>752344753</td>\n",
       "    </tr>\n",
       "    <tr>\n",
       "      <th>1</th>\n",
       "      <td>4</td>\n",
       "      <td>NaN</td>\n",
       "      <td>CEDARVIEW DR</td>\n",
       "      <td>NaN</td>\n",
       "      <td>NaN</td>\n",
       "      <td>CEDAR HILL</td>\n",
       "      <td>75104</td>\n",
       "    </tr>\n",
       "    <tr>\n",
       "      <th>2</th>\n",
       "      <td>13736</td>\n",
       "      <td>NaN</td>\n",
       "      <td>STARDUST LN</td>\n",
       "      <td>NaN</td>\n",
       "      <td>NaN</td>\n",
       "      <td>FARMERS BRANCH</td>\n",
       "      <td>752344840</td>\n",
       "    </tr>\n",
       "    <tr>\n",
       "      <th>3</th>\n",
       "      <td>12511</td>\n",
       "      <td>NaN</td>\n",
       "      <td>KEYPORT DR</td>\n",
       "      <td>NaN</td>\n",
       "      <td>NaN</td>\n",
       "      <td>FARMERS BRANCH</td>\n",
       "      <td>752346615</td>\n",
       "    </tr>\n",
       "    <tr>\n",
       "      <th>4</th>\n",
       "      <td>3643</td>\n",
       "      <td>NaN</td>\n",
       "      <td>MORNING STAR CIR</td>\n",
       "      <td>NaN</td>\n",
       "      <td>NaN</td>\n",
       "      <td>FARMERS BRANCH</td>\n",
       "      <td>752346666</td>\n",
       "    </tr>\n",
       "  </tbody>\n",
       "</table>\n",
       "</div>"
      ],
      "text/plain": [
       "   STREET_NUM STREET_HALF_NUM  FULL_STREET_NAME BLDG_ID UNIT_ID  \\\n",
       "0        2511             NaN     BRANDYWINE DR     NaN     NaN   \n",
       "1           4             NaN      CEDARVIEW DR     NaN     NaN   \n",
       "2       13736             NaN       STARDUST LN     NaN     NaN   \n",
       "3       12511             NaN        KEYPORT DR     NaN     NaN   \n",
       "4        3643             NaN  MORNING STAR CIR     NaN     NaN   \n",
       "\n",
       "    PROPERTY_CITY PROPERTY_ZIPCODE  \n",
       "0  FARMERS BRANCH        752344753  \n",
       "1      CEDAR HILL        75104      \n",
       "2  FARMERS BRANCH        752344840  \n",
       "3  FARMERS BRANCH        752346615  \n",
       "4  FARMERS BRANCH        752346666  "
      ]
     },
     "execution_count": 11,
     "metadata": {},
     "output_type": "execute_result"
    }
   ],
   "source": [
    "accountINFO[['STREET_NUM', 'STREET_HALF_NUM', 'FULL_STREET_NAME', 'BLDG_ID', 'UNIT_ID', 'PROPERTY_CITY', 'PROPERTY_ZIPCODE']].head()"
   ]
  },
  {
   "cell_type": "code",
   "execution_count": null,
   "id": "3c28c23a",
   "metadata": {},
   "outputs": [],
   "source": []
  }
 ],
 "metadata": {
  "kernelspec": {
   "display_name": "venv",
   "language": "python",
   "name": "python3"
  },
  "language_info": {
   "codemirror_mode": {
    "name": "ipython",
    "version": 3
   },
   "file_extension": ".py",
   "mimetype": "text/x-python",
   "name": "python",
   "nbconvert_exporter": "python",
   "pygments_lexer": "ipython3",
   "version": "3.13.7"
  }
 },
 "nbformat": 4,
 "nbformat_minor": 5
}
